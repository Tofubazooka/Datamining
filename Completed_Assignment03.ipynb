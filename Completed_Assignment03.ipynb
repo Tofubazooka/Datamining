{
 "cells": [
  {
   "cell_type": "markdown",
   "id": "158833de",
   "metadata": {},
   "source": [
    "# Programming Assignment 03 – Decision Tree with Scikit-learn"
   ]
  },
  {
   "cell_type": "code",
   "execution_count": null,
   "id": "3a5a16d9",
   "metadata": {},
   "outputs": [],
   "source": [
    "import pandas as pd\n",
    "import matplotlib.pyplot as plt\n",
    "\n",
    "from sklearn.model_selection import train_test_split\n",
    "from sklearn.tree import DecisionTreeClassifier, export_text\n",
    "from sklearn.metrics import confusion_matrix, ConfusionMatrixDisplay\n",
    "\n",
    "plt.rcParams['figure.dpi'] = 150\n"
   ]
  },
  {
   "cell_type": "code",
   "execution_count": null,
   "id": "b3605ea0",
   "metadata": {},
   "outputs": [],
   "source": [
    "# Load the mpg dataset\n",
    "mpg = pd.read_csv('mpg.csv')\n",
    "mpg.head()\n"
   ]
  },
  {
   "cell_type": "code",
   "execution_count": null,
   "id": "9c564a3f",
   "metadata": {},
   "outputs": [],
   "source": [
    "# Create a dataframe X containing cylinders, weight, and mpg\n",
    "X = mpg[['cylinders', 'weight', 'mpg']].dropna()\n",
    "\n",
    "# Create a dataframe y containing origin\n",
    "y = mpg['origin'].loc[X.index]\n"
   ]
  },
  {
   "cell_type": "code",
   "execution_count": null,
   "id": "5427faa3",
   "metadata": {},
   "outputs": [],
   "source": [
    "X_train, X_test, y_train, y_test = train_test_split(X, y, test_size=0.3, random_state=123)\n"
   ]
  },
  {
   "cell_type": "code",
   "execution_count": null,
   "id": "e04301b0",
   "metadata": {},
   "outputs": [],
   "source": [
    "# Initialize the tree with `max_leaf_nodes=6`\n",
    "DTC = DecisionTreeClassifier(max_leaf_nodes=6, random_state=123)\n",
    "\n",
    "# Fit the tree to the training data\n",
    "DTC.fit(X_train, y_train)\n"
   ]
  },
  {
   "cell_type": "code",
   "execution_count": null,
   "id": "0c73b549",
   "metadata": {},
   "outputs": [],
   "source": [
    "# Print the text summary of the tree\n",
    "DTC_tree = export_text(DTC, feature_names=list(X.columns))\n",
    "print(DTC_tree)\n"
   ]
  },
  {
   "cell_type": "code",
   "execution_count": null,
   "id": "88f3c317",
   "metadata": {},
   "outputs": [],
   "source": [
    "# Make predictions for the test data\n",
    "y_pred = DTC.predict(X_test)\n"
   ]
  },
  {
   "cell_type": "code",
   "execution_count": null,
   "id": "70fec591",
   "metadata": {},
   "outputs": [],
   "source": [
    "# Create a confusion matrix\n",
    "cm = confusion_matrix(y_test, y_pred)\n",
    "\n",
    "# Plot the confusion matrix\n",
    "ConfusionMatrixDisplay(cm).plot()\n",
    "plt.savefig('confMatrix.png')\n"
   ]
  }
 ],
 "metadata": {},
 "nbformat": 4,
 "nbformat_minor": 5
}
