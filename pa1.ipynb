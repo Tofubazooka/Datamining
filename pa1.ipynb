# Programming Assignment: Python Basics

# Part 1: List Basics

# Take inputs for flowers
myFlower1 = input()
myFlower2 = input()
myFlower3 = input()

yourFlower1 = input()
yourFlower2 = input()

theirFlower = input()

# Define myList containing myFlower1, myFlower2, and myFlower3 in that order
myList = [myFlower1, myFlower2, myFlower3]
print(myList)

# Define yourList containing yourFlower1 and yourFlower2 in that order
yourList = [yourFlower1, yourFlower2]
print(yourList)

# Define ourList by concatenating myList and yourList
ourList = myList + yourList
print(ourList)

# Append theirFlower to the end of ourList
ourList.append(theirFlower)
print(ourList)

# Replace myFlower2 in ourList with theirFlower
index_to_replace = ourList.index(myFlower2)
ourList[index_to_replace] = theirFlower
print(ourList)

# Remove the third element of ourList
del ourList[2]
print(ourList)


# Part 2: Set Basics

# Take inputs for fruits
myFruit1 = input()
myFruit2 = input()
myFruit3 = input()

yourFruit1 = input()
yourFruit2 = input()

theirFruit = input()

# Define a set, fruits, containing myFruit1, myFruit2, and myFruit3
fruits = {myFruit1, myFruit2, myFruit3}
print(sorted(fruits))

# Add theirFruit to fruits
fruits.add(theirFruit)
print(sorted(fruits))

# Find the intersection of fruits, and yourFruit1 and yourFruit2
fruitsInter = fruits.intersection({yourFruit1, yourFruit2})
print(sorted(fruitsInter))

# Remove myFruit1 from fruits
fruits.discard(myFruit1)
print(sorted(fruits))
