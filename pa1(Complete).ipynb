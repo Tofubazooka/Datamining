{
 "cells": [
  {
   "cell_type": "markdown",
   "id": "0f6867db",
   "metadata": {},
   "source": [
    "# 1. Programming Assignment: Python Basics"
   ]
  },
  {
   "cell_type": "markdown",
   "id": "e628c735",
   "metadata": {},
   "source": [
    "## List Basics\n"
   ]
  },
  {
   "cell_type": "code",
   "execution_count": null,
   "id": "259a6e35",
   "metadata": {},
   "outputs": [],
   "source": [
    "# Part 1: List Basics\n",
    "\n",
    "# Take inputs for flowers\n",
    "myFlower1 = input()\n",
    "myFlower2 = input()\n",
    "myFlower3 = input()\n",
    "\n",
    "yourFlower1 = input()\n",
    "yourFlower2 = input()\n",
    "\n",
    "theirFlower = input()\n",
    "\n",
    "# Define myList containing myFlower1, myFlower2, and myFlower3 in that order\n",
    "myList = [myFlower1, myFlower2, myFlower3]\n",
    "print(myList)\n",
    "\n",
    "# Define yourList containing yourFlower1 and yourFlower2 in that order\n",
    "yourList = [yourFlower1, yourFlower2]\n",
    "print(yourList)\n",
    "\n",
    "# Define ourList by concatenating myList and yourList\n",
    "ourList = myList + yourList\n",
    "print(ourList)\n",
    "\n",
    "# Append theirFlower to the end of ourList\n",
    "ourList.append(theirFlower)\n",
    "print(ourList)\n",
    "\n",
    "# Replace myFlower2 in ourList with theirFlower\n",
    "index_to_replace = ourList.index(myFlower2)\n",
    "ourList[index_to_replace] = theirFlower\n",
    "print(ourList)\n",
    "\n",
    "# Remove the third element of ourList\n",
    "del ourList[2]\n",
    "print(ourList)"
   ]
  },
  {
   "cell_type": "markdown",
   "id": "15054425",
   "metadata": {},
   "source": [
    "## Set Basics\n",
    "This section covers set operations as described in the assignment."
   ]
  },
  {
   "cell_type": "code",
   "execution_count": null,
   "id": "41eefac9",
   "metadata": {},
   "outputs": [],
   "source": [
    "# Part 2: Set Basics\n",
    "\n",
    "# Take inputs for fruits\n",
    "myFruit1 = input()\n",
    "myFruit2 = input()\n",
    "myFruit3 = input()\n",
    "\n",
    "yourFruit1 = input()\n",
    "yourFruit2 = input()\n",
    "\n",
    "theirFruit = input()\n",
    "\n",
    "# Define a set, fruits, containing myFruit1, myFruit2, and myFruit3\n",
    "fruits = {myFruit1, myFruit2, myFruit3}\n",
    "print(sorted(fruits))\n",
    "\n",
    "# Add theirFruit to fruits\n",
    "fruits.add(theirFruit)\n",
    "print(sorted(fruits))\n",
    "\n",
    "# Find the intersection of fruits, and yourFruit1 and yourFruit2\n",
    "fruitsInter = fruits.intersection({yourFruit1, yourFruit2})\n",
    "print(sorted(fruitsInter))\n",
    "\n",
    "# Remove myFruit1 from fruits\n",
    "fruits.discard(myFruit1)\n",
    "print(sorted(fruits))"
   ]
  }
 ],
 "metadata": {},
 "nbformat": 4,
 "nbformat_minor": 5
}
